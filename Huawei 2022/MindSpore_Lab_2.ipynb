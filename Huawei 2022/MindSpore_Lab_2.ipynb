{
  "nbformat": 4,
  "nbformat_minor": 0,
  "metadata": {
    "colab": {
      "name": "MindSpore Lab 2.ipynb",
      "provenance": [],
      "collapsed_sections": []
    },
    "kernelspec": {
      "name": "python3",
      "display_name": "Python 3"
    },
    "language_info": {
      "name": "python"
    }
  },
  "cells": [
    {
      "cell_type": "code",
      "execution_count": 1,
      "metadata": {
        "colab": {
          "base_uri": "https://localhost:8080/",
          "height": 661
        },
        "id": "gCIXRxwwRY_Q",
        "outputId": "7300590c-3e15-423b-acff-d162657a3cd5"
      },
      "outputs": [
        {
          "output_type": "stream",
          "name": "stdout",
          "text": [
            "Looking in indexes: https://pypi.tuna.tsinghua.edu.cn/simple\n",
            "Collecting mindspore-gpu==1.6.1\n",
            "  Downloading https://ms-release.obs.cn-north-4.myhuaweicloud.com/1.6.1/MindSpore/gpu/x86_64/cuda-11.1/mindspore_gpu-1.6.1-cp37-cp37m-linux_x86_64.whl (201.6 MB)\n",
            "\u001b[K     |████████████████████████████████| 201.6 MB 20 kB/s \n",
            "\u001b[?25hCollecting scipy>=1.5.2\n",
            "  Downloading https://pypi.tuna.tsinghua.edu.cn/packages/58/4f/11f34cfc57ead25752a7992b069c36f5d18421958ebd6466ecd849aeaf86/scipy-1.7.3-cp37-cp37m-manylinux_2_12_x86_64.manylinux2010_x86_64.whl (38.1 MB)\n",
            "\u001b[K     |████████████████████████████████| 38.1 MB 101 kB/s \n",
            "\u001b[?25hRequirement already satisfied: pillow>=6.2.0 in /usr/local/lib/python3.7/dist-packages (from mindspore-gpu==1.6.1) (7.1.2)\n",
            "Requirement already satisfied: numpy>=1.17.0 in /usr/local/lib/python3.7/dist-packages (from mindspore-gpu==1.6.1) (1.21.6)\n",
            "Collecting asttokens>=2.0.0\n",
            "  Downloading https://pypi.tuna.tsinghua.edu.cn/packages/16/d5/b0ad240c22bba2f4591693b0ca43aae94fbd77fb1e2b107d54fff1462b6f/asttokens-2.0.5-py2.py3-none-any.whl (20 kB)\n",
            "Collecting psutil>=5.6.1\n",
            "  Downloading https://pypi.tuna.tsinghua.edu.cn/packages/60/f9/b78291ed21146ece2417bd1ba715564c6d3bdf2f1e9297ed67709bb36eeb/psutil-5.9.0-cp37-cp37m-manylinux_2_12_x86_64.manylinux2010_x86_64.manylinux_2_17_x86_64.manylinux2014_x86_64.whl (280 kB)\n",
            "\u001b[K     |████████████████████████████████| 280 kB 99 kB/s \n",
            "\u001b[?25hRequirement already satisfied: protobuf>=3.13.0 in /usr/local/lib/python3.7/dist-packages (from mindspore-gpu==1.6.1) (3.17.3)\n",
            "Requirement already satisfied: packaging>=20.0 in /usr/local/lib/python3.7/dist-packages (from mindspore-gpu==1.6.1) (21.3)\n",
            "Requirement already satisfied: six in /usr/local/lib/python3.7/dist-packages (from asttokens>=2.0.0->mindspore-gpu==1.6.1) (1.15.0)\n",
            "Requirement already satisfied: pyparsing!=3.0.5,>=2.0.2 in /usr/local/lib/python3.7/dist-packages (from packaging>=20.0->mindspore-gpu==1.6.1) (3.0.8)\n",
            "Installing collected packages: scipy, psutil, asttokens, mindspore-gpu\n",
            "  Attempting uninstall: scipy\n",
            "    Found existing installation: scipy 1.4.1\n",
            "    Uninstalling scipy-1.4.1:\n",
            "      Successfully uninstalled scipy-1.4.1\n",
            "  Attempting uninstall: psutil\n",
            "    Found existing installation: psutil 5.4.8\n",
            "    Uninstalling psutil-5.4.8:\n",
            "      Successfully uninstalled psutil-5.4.8\n",
            "\u001b[31mERROR: pip's dependency resolver does not currently take into account all the packages that are installed. This behaviour is the source of the following dependency conflicts.\n",
            "albumentations 0.1.12 requires imgaug<0.2.7,>=0.2.5, but you have imgaug 0.2.9 which is incompatible.\u001b[0m\n",
            "Successfully installed asttokens-2.0.5 mindspore-gpu-1.6.1 psutil-5.9.0 scipy-1.7.3\n"
          ]
        },
        {
          "output_type": "display_data",
          "data": {
            "application/vnd.colab-display-data+json": {
              "pip_warning": {
                "packages": [
                  "psutil"
                ]
              }
            }
          },
          "metadata": {}
        }
      ],
      "source": [
        "!pip install https://ms-release.obs.cn-north-4.myhuaweicloud.com/1.6.1/MindSpore/gpu/x86_64/cuda-11.1/mindspore_gpu-1.6.1-cp37-cp37m-linux_x86_64.whl --trusted-host ms-release.obs.cn-north-4.myhuaweicloud.com -i https://pypi.tuna.tsinghua.edu.cn/simple\n"
      ]
    },
    {
      "cell_type": "code",
      "source": [
        "!pip install MindSpore"
      ],
      "metadata": {
        "colab": {
          "base_uri": "https://localhost:8080/"
        },
        "id": "CjsQ1DKdRbsf",
        "outputId": "fd9b5e4b-aab8-4294-a166-a6ec0cdffb06"
      },
      "execution_count": 2,
      "outputs": [
        {
          "output_type": "stream",
          "name": "stdout",
          "text": [
            "Collecting MindSpore\n",
            "  Downloading mindspore-1.6.1-cp37-cp37m-manylinux1_x86_64.whl (108.1 MB)\n",
            "\u001b[K     |████████████████████████████████| 108.1 MB 13 kB/s \n",
            "\u001b[?25hRequirement already satisfied: psutil>=5.6.1 in /usr/local/lib/python3.7/dist-packages (from MindSpore) (5.9.0)\n",
            "Requirement already satisfied: pillow>=6.2.0 in /usr/local/lib/python3.7/dist-packages (from MindSpore) (7.1.2)\n",
            "Requirement already satisfied: packaging>=20.0 in /usr/local/lib/python3.7/dist-packages (from MindSpore) (21.3)\n",
            "Requirement already satisfied: scipy>=1.5.2 in /usr/local/lib/python3.7/dist-packages (from MindSpore) (1.7.3)\n",
            "Requirement already satisfied: asttokens>=2.0.0 in /usr/local/lib/python3.7/dist-packages (from MindSpore) (2.0.5)\n",
            "Requirement already satisfied: numpy>=1.17.0 in /usr/local/lib/python3.7/dist-packages (from MindSpore) (1.21.6)\n",
            "Requirement already satisfied: protobuf>=3.13.0 in /usr/local/lib/python3.7/dist-packages (from MindSpore) (3.17.3)\n",
            "Requirement already satisfied: six in /usr/local/lib/python3.7/dist-packages (from asttokens>=2.0.0->MindSpore) (1.15.0)\n",
            "Requirement already satisfied: pyparsing!=3.0.5,>=2.0.2 in /usr/local/lib/python3.7/dist-packages (from packaging>=20.0->MindSpore) (3.0.8)\n",
            "Installing collected packages: MindSpore\n",
            "Successfully installed MindSpore-1.6.1\n"
          ]
        }
      ]
    },
    {
      "cell_type": "code",
      "source": [
        "#from google.colab import drive\n",
        "#drive.mount('/content/drive')"
      ],
      "metadata": {
        "id": "0w1HXhKiqSaj"
      },
      "execution_count": 4,
      "outputs": []
    },
    {
      "cell_type": "code",
      "source": [
        "from mindspore import context\n",
        "from mindspore.ops import ImageSummary, TensorSummary\n",
        "context.set_context(mode=context.GRAPH_MODE, device_target=\"CPU\")"
      ],
      "metadata": {
        "id": "dlOPDCmWTD1U"
      },
      "execution_count": 14,
      "outputs": []
    },
    {
      "cell_type": "code",
      "source": [
        "import numpy as np\n",
        "\n",
        "def get_data(num, w=2.0, b=3.0):\n",
        "    for _ in range(num):\n",
        "        x = np.random.uniform(-10.0, 10.0)\n",
        "        noise = np.random.normal(0, 1)\n",
        "        y = x * w + b + noise\n",
        "        yield np.array([x]).astype(np.float32), np.array([y]).astype(np.float32)"
      ],
      "metadata": {
        "id": "aDJYmPgEUg_i"
      },
      "execution_count": 15,
      "outputs": []
    },
    {
      "cell_type": "code",
      "source": [
        "import matplotlib.pyplot as plt\n",
        "\n",
        "eval_data = list(get_data(50))\n",
        "x_target_label = np.array([-10, 10, 0.1])\n",
        "y_target_label = x_target_label * 2 + 3\n",
        "x_eval_label, y_eval_label = zip(*eval_data)\n",
        "\n",
        "plt.scatter(x_eval_label, y_eval_label, color=\"red\", s=5)\n",
        "plt.plot(x_target_label, y_target_label, color=\"green\")\n",
        "plt.title(\"Eval data\")\n",
        "plt.show()"
      ],
      "metadata": {
        "colab": {
          "base_uri": "https://localhost:8080/",
          "height": 281
        },
        "id": "GaWb_Np8UkEU",
        "outputId": "62194142-999d-4480-fc85-0554515a39fd"
      },
      "execution_count": 16,
      "outputs": [
        {
          "output_type": "display_data",
          "data": {
            "text/plain": [
              "<Figure size 432x288 with 1 Axes>"
            ],
            "image/png": "[encoded data removed]"
          },
          "metadata": {
            "needs_background": "light"
          }
        }
      ]
    },
    {
      "cell_type": "code",
      "source": [
        "from mindspore import dataset as ds\n",
        "\n",
        "def create_dataset(num_data, batch_size=16, repeat_size=1):\n",
        "    input_data = ds.GeneratorDataset(list(get_data(num_data)), column_names=['data', 'label'])\n",
        "    input_data = input_data.batch(batch_size)\n",
        "    input_data = input_data.repeat(repeat_size)\n",
        "    return input_data"
      ],
      "metadata": {
        "id": "G_XuiUCVUoi3"
      },
      "execution_count": 17,
      "outputs": []
    },
    {
      "cell_type": "code",
      "source": [
        "data_number = 1600\n",
        "batch_number = 16\n",
        "repeat_number = 1\n",
        "\n",
        "ds_train = create_dataset(data_number, batch_size=batch_number, repeat_size=repeat_number)\n",
        "print(\"The dataset size of ds_train:\", ds_train.get_dataset_size())\n",
        "dict_datasets = next(ds_train.create_dict_iterator())\n",
        "\n",
        "print(dict_datasets.keys())\n",
        "print(\"The x label value shape:\", dict_datasets[\"data\"].shape)\n",
        "print(\"The y label value shape:\", dict_datasets[\"label\"].shape)"
      ],
      "metadata": {
        "colab": {
          "base_uri": "https://localhost:8080/"
        },
        "id": "dXxv6xmtU2sj",
        "outputId": "ed4b9cf1-879f-4501-a9db-2435d9ceb813"
      },
      "execution_count": 18,
      "outputs": [
        {
          "output_type": "stream",
          "name": "stdout",
          "text": [
            "The dataset size of ds_train: 100\n",
            "dict_keys(['data', 'label'])\n",
            "The x label value shape: (16, 1)\n",
            "The y label value shape: (16, 1)\n"
          ]
        }
      ]
    },
    {
      "cell_type": "code",
      "source": [
        "from mindspore import nn\n",
        "from mindspore.common.initializer import Normal\n",
        "class LinearNet(nn.Cell):\n",
        "    def __init__(self):\n",
        "        super(LinearNet, self).__init__()\n",
        "        self.fc = nn.Dense(1, 1, Normal(0.02), Normal(0.02))\n",
        "        self.tensor_summary = TensorSummary()\n",
        "\n",
        "    def construct(self, x):\n",
        "        x = self.fc(x)\n",
        "        self.tensor_summary(\"tensor\", x)\n",
        "        return x"
      ],
      "metadata": {
        "id": "jd-BA0cJU5sr"
      },
      "execution_count": 19,
      "outputs": []
    },
    {
      "cell_type": "code",
      "source": [
        "net = LinearNet()\n",
        "model_params = net.trainable_params()\n",
        "for param in model_params:\n",
        "    print(param, param.asnumpy())"
      ],
      "metadata": {
        "colab": {
          "base_uri": "https://localhost:8080/"
        },
        "id": "oZ4JRS5hWJjo",
        "outputId": "41c1b2f8-69da-430b-e038-db9b54afdaf5"
      },
      "execution_count": 20,
      "outputs": [
        {
          "output_type": "stream",
          "name": "stdout",
          "text": [
            "Parameter (name=fc.weight, shape=(1, 1), dtype=Float32, requires_grad=True) [[-0.01270187]]\n",
            "Parameter (name=fc.bias, shape=(1,), dtype=Float32, requires_grad=True) [0.03182328]\n"
          ]
        }
      ]
    },
    {
      "cell_type": "code",
      "source": [
        "from mindspore import Tensor\n",
        "\n",
        "x_model_label = np.array([-10, 10, 0.1])\n",
        "y_model_label = (x_model_label * Tensor(model_params[0]).asnumpy()[0][0] +\n",
        "                 Tensor(model_params[1]).asnumpy()[0])\n",
        "plt.axis([-10, 10, -20, 25])\n",
        "plt.scatter(x_eval_label, y_eval_label, color=\"red\", s=5)\n",
        "plt.plot(x_model_label, y_model_label, color=\"blue\")\n",
        "plt.plot(x_target_label, y_target_label, color=\"green\")\n",
        "plt.show()"
      ],
      "metadata": {
        "colab": {
          "base_uri": "https://localhost:8080/",
          "height": 269
        },
        "id": "lFeenTioU_3T",
        "outputId": "6946b383-37d6-462e-8952-c788c86d11d9"
      },
      "execution_count": 21,
      "outputs": [
        {
          "output_type": "display_data",
          "data": {
            "text/plain": [
              "<Figure size 432x288 with 1 Axes>"
            ],
            "image/png": "[encoded data removed]"
          },
          "metadata": {
            "needs_background": "light"
          }
        }
      ]
    },
    {
      "cell_type": "code",
      "source": [
        "net = LinearNet()\n",
        "net_loss = nn.loss.MSELoss()"
      ],
      "metadata": {
        "id": "-3MoMHnDVvWI"
      },
      "execution_count": 22,
      "outputs": []
    },
    {
      "cell_type": "code",
      "source": [
        "opt = nn.Momentum(net.trainable_params(), learning_rate=0.005, momentum=0.9)"
      ],
      "metadata": {
        "id": "NTCqyOB1WpKG"
      },
      "execution_count": 23,
      "outputs": []
    },
    {
      "cell_type": "code",
      "source": [
        "from mindspore import Model\n",
        "\n",
        "model = Model(net, net_loss, opt)\n"
      ],
      "metadata": {
        "id": "CWrj4fhCXhkT"
      },
      "execution_count": 24,
      "outputs": []
    },
    {
      "cell_type": "code",
      "source": [
        "import matplotlib.pyplot as plt\n",
        "import time\n",
        "\n",
        "def plot_model_and_datasets(net, eval_data):\n",
        "    weight = net.trainable_params()[0]\n",
        "    bias = net.trainable_params()[1]\n",
        "    x = np.arange(-10, 10, 0.1)\n",
        "    y = x * Tensor(weight).asnumpy()[0][0] + Tensor(bias).asnumpy()[0]\n",
        "    x1, y1 = zip(*eval_data)\n",
        "    x_target = x\n",
        "    y_target = x_target * 2 + 3\n",
        "\n",
        "    plt.axis([-11, 11, -20, 25])\n",
        "    plt.scatter(x1, y1, color=\"red\", s=5)\n",
        "    plt.plot(x, y, color=\"blue\")\n",
        "    plt.plot(x_target, y_target, color=\"green\")\n",
        "    plt.show()\n",
        "    time.sleep(0.2)"
      ],
      "metadata": {
        "id": "ieB4Sx0ZXkSy"
      },
      "execution_count": 25,
      "outputs": []
    },
    {
      "cell_type": "code",
      "source": [
        "from IPython import display\n",
        "from mindspore.train.callback import Callback\n",
        "from mindspore.train.callback import SummaryCollector\n",
        "from mindspore.profiler import Profiler\n",
        "\n",
        "class ImageShowCallback(Callback):\n",
        "    def __init__(self, net, eval_data):\n",
        "        self.net = net\n",
        "        self.eval_data = eval_data\n",
        "\n",
        "    def step_end(self, run_context):\n",
        "        plot_model_and_datasets(self.net, self.eval_data)\n",
        "        display.clear_output(wait=True)"
      ],
      "metadata": {
        "id": "oVcYM4qhXmO1"
      },
      "execution_count": 26,
      "outputs": []
    },
    {
      "cell_type": "code",
      "source": [
        "profiler = Profiler(output_path = './summary_dir/profiler_data')\n",
        "\n",
        "epoch = 1\n",
        "summary_collector = SummaryCollector(summary_dir='./summary_dir', collect_freq=1)\n",
        "imageshow_cb = ImageShowCallback(net, eval_data)\n",
        "model.train(epoch, ds_train, callbacks=[imageshow_cb, summary_colle], dataset_sink_mode=False)\n",
        "profiler.analyse()\n",
        "plot_model_and_datasets(net, eval_data)\n",
        "for param in net.trainable_params():\n",
        "    print(param, param.asnumpy())"
      ],
      "metadata": {
        "colab": {
          "base_uri": "https://localhost:8080/",
          "height": 304
        },
        "id": "23MeYZ4UXpre",
        "outputId": "31ee0ac8-970b-4337-9c1a-4f1fbda50e4c"
      },
      "execution_count": 27,
      "outputs": [
        {
          "output_type": "display_data",
          "data": {
            "text/plain": [
              "<Figure size 432x288 with 1 Axes>"
            ],
            "image/png": "[encoded data removed]"
          },
          "metadata": {
            "needs_background": "light"
          }
        },
        {
          "output_type": "stream",
          "name": "stdout",
          "text": [
            "Parameter (name=fc.weight, shape=(1, 1), dtype=Float32, requires_grad=True) [[2.0439558]]\n",
            "Parameter (name=fc.bias, shape=(1,), dtype=Float32, requires_grad=True) [3.1867297]\n"
          ]
        }
      ]
    }
  ]
}